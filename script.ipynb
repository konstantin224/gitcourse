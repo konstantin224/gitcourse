{
 "cells": [
  {
   "cell_type": "code",
   "execution_count": 2,
   "id": "1a5fcebd",
   "metadata": {},
   "outputs": [],
   "source": [
    "a = [0]*10\n",
    "\n",
    "for i in range(10):\n",
    "    a[i] = i\n"
   ]
  },
  {
   "cell_type": "code",
   "execution_count": 3,
   "id": "841e2a30",
   "metadata": {},
   "outputs": [
    {
     "name": "stdout",
     "output_type": "stream",
     "text": [
      "123\n"
     ]
    }
   ],
   "source": [
    "print(123)"
   ]
  },
  {
   "cell_type": "code",
   "execution_count": null,
   "id": "03856726",
   "metadata": {},
   "outputs": [],
   "source": []
  }
 ],
 "metadata": {
  "kernelspec": {
   "display_name": "Python 3",
   "language": "python",
   "name": "python3"
  },
  "language_info": {
   "codemirror_mode": {
    "name": "ipython",
    "version": 3
   },
   "file_extension": ".py",
   "mimetype": "text/x-python",
   "name": "python",
   "nbconvert_exporter": "python",
   "pygments_lexer": "ipython3",
   "version": "3.8.8"
  }
 },
 "nbformat": 4,
 "nbformat_minor": 5
}
